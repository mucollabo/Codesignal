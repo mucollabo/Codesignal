{
 "cells": [
  {
   "cell_type": "code",
   "execution_count": 30,
   "metadata": {
    "collapsed": true,
    "pycharm": {
     "name": "#%%\n"
    }
   },
   "outputs": [
    {
     "data": {
      "text/plain": "[False, False, True, False, True]"
     },
     "execution_count": 30,
     "metadata": {},
     "output_type": "execute_result"
    }
   ],
   "source": [
    "def solution(a, l, r):\n",
    "    b = []\n",
    "    for n, e in enumerate(a):\n",
    "        x = a[n]/(n + 1)\n",
    "        if a[n]%(n + 1) == 0 and x >= l and x <= r:\n",
    "            b.append(True)\n",
    "        else:\n",
    "            b.append(False)\n",
    "    return b\n",
    "\n",
    "a = [8, 5, 6, 16, 5]\n",
    "l = 1\n",
    "r = 3\n",
    "solution(a, l, r)"
   ]
  },
  {
   "cell_type": "code",
   "execution_count": null,
   "outputs": [],
   "source": [],
   "metadata": {
    "collapsed": false,
    "pycharm": {
     "name": "#%%\n"
    }
   }
  }
 ],
 "metadata": {
  "kernelspec": {
   "display_name": "Python 3",
   "language": "python",
   "name": "python3"
  },
  "language_info": {
   "codemirror_mode": {
    "name": "ipython",
    "version": 2
   },
   "file_extension": ".py",
   "mimetype": "text/x-python",
   "name": "python",
   "nbconvert_exporter": "python",
   "pygments_lexer": "ipython2",
   "version": "2.7.6"
  }
 },
 "nbformat": 4,
 "nbformat_minor": 0
}